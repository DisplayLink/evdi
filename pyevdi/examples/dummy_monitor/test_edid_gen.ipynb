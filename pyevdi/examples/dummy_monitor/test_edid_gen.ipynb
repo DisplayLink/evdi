{
 "cells": [
  {
   "cell_type": "code",
   "execution_count": 1,
   "metadata": {},
   "outputs": [
    {
     "name": "stdout",
     "output_type": "stream",
     "text": [
      "Requirement already satisfied: hexdump in /home/main/Desktop/evdi/pyevdi/.venv_evdi/lib/python3.11/site-packages (3.3)\n",
      "\n",
      "\u001b[1m[\u001b[0m\u001b[34;49mnotice\u001b[0m\u001b[1;39;49m]\u001b[0m\u001b[39;49m A new release of pip is available: \u001b[0m\u001b[31;49m23.2.1\u001b[0m\u001b[39;49m -> \u001b[0m\u001b[32;49m23.3.2\u001b[0m\n",
      "\u001b[1m[\u001b[0m\u001b[34;49mnotice\u001b[0m\u001b[1;39;49m]\u001b[0m\u001b[39;49m To update, run: \u001b[0m\u001b[32;49mpip3.11 install --upgrade pip\u001b[0m\n",
      "Note: you may need to restart the kernel to use updated packages.\n"
     ]
    }
   ],
   "source": [
    "%pip install hexdump"
   ]
  },
  {
   "cell_type": "code",
   "execution_count": 5,
   "metadata": {},
   "outputs": [],
   "source": [
    "%load_ext autoreload\n",
    "from hexdump import hexdump"
   ]
  },
  {
   "cell_type": "code",
   "execution_count": 7,
   "metadata": {},
   "outputs": [
    {
     "name": "stdout",
     "output_type": "stream",
     "text": [
      "00000000: 20 4D 04 00 20 00 2A 12  34 56 34 12 78 56 34 12   M.. .*.4V4.xV4.\n",
      "00000010: 01 FF 0D 00 00 00 00 00  00 00 00 00 00 00 00 00  ................\n",
      "00000020: 00 00 00 00 44 75 6D 6D  79 20 4D 6F 6E 69 74 6F  ....Dummy Monito\n",
      "00000030: 72 21 00 00 00 00 00 00  80 07 38 04 00 54 7A 3D  r!........8..Tz=\n",
      "00000040: B5 B3 5C 0F 62 66 54 35  01 80 00 80 00 80 00 01  ..\\.bfT5........\n",
      "00000050: FF                                                .\n"
     ]
    }
   ],
   "source": [
    "from displayid_gen import displayid_gen\n",
    "data = displayid_gen(1920, 1080, 60, 8)\n",
    "hexdump(data)"
   ]
  }
 ],
 "metadata": {
  "kernelspec": {
   "display_name": ".venv_evdi",
   "language": "python",
   "name": "python3"
  },
  "language_info": {
   "codemirror_mode": {
    "name": "ipython",
    "version": 3
   },
   "file_extension": ".py",
   "mimetype": "text/x-python",
   "name": "python",
   "nbconvert_exporter": "python",
   "pygments_lexer": "ipython3",
   "version": "3.11.6"
  }
 },
 "nbformat": 4,
 "nbformat_minor": 2
}
